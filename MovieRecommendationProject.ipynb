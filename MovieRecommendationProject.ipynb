{
  "nbformat": 4,
  "nbformat_minor": 0,
  "metadata": {
    "colab": {
      "provenance": []
    },
    "kernelspec": {
      "name": "python3",
      "display_name": "Python 3"
    },
    "language_info": {
      "name": "python"
    }
  },
  "cells": [
    {
      "cell_type": "markdown",
      "source": [
        "# Movie Recommendation System\n",
        "\n",
        "This notebook builds a movie recommendation system using various movie attributes like keywords, genres, overviews, titles, spoken languages, and production countries.\n",
        "\n",
        "## 1. Importing Libraries\n",
        "\n",
        "First, we import the necessary libraries. `numpy` and `pandas` are for data manipulation. `TfidfVectorizer` and `CountVectorizer` from `sklearn.feature_extraction.text` are used for text feature extraction. `cosine_similarity` from `sklearn.metrics.pairwise` calculates the similarity between movies. `nltk` is for natural language processing tasks like removing stopwords and lemmatization. `literal_eval` from `ast` helps in safely evaluating string literals. `process` from `fuzzywuzzy` is used for finding the closest movie title match."
      ],
      "metadata": {
        "id": "sOurr57RAlVI"
      }
    },
    {
      "cell_type": "code",
      "execution_count": null,
      "metadata": {
        "id": "reVkRYN45M9E"
      },
      "outputs": [],
      "source": [
        "import numpy as np\n",
        "import pandas as pd\n",
        "from sklearn.feature_extraction.text import TfidfVectorizer, CountVectorizer\n",
        "from sklearn.metrics.pairwise import cosine_similarity\n",
        "import nltk\n",
        "from nltk.corpus import stopwords\n",
        "from nltk.stem import WordNetLemmatizer\n",
        "from ast import literal_eval\n",
        "from fuzzywuzzy import process"
      ]
    },
    {
      "cell_type": "markdown",
      "source": [
        "## 2. Downloading the Dataset\n",
        "\n",
        "We download the movie dataset from a Google Drive link using the `gdown` library. The dataset is saved as `file.csv`."
      ],
      "metadata": {
        "id": "BzTxgPJMAxG0"
      }
    },
    {
      "cell_type": "code",
      "source": [
        "import gdown\n",
        "url = \"https://drive.google.com/uc?id=15qdSFASWLhg9W8kBLQbxYBwu-OI2lica\"\n",
        "output = \"file.csv\"\n",
        "gdown.download(url, output, quiet=False)"
      ],
      "metadata": {
        "colab": {
          "base_uri": "https://localhost:8080/",
          "height": 142
        },
        "id": "9P2-NGIkk_39",
        "outputId": "2cc85fde-17d1-409d-d8ab-eddde9b9375e"
      },
      "execution_count": null,
      "outputs": [
        {
          "output_type": "stream",
          "name": "stderr",
          "text": [
            "Downloading...\n",
            "From (original): https://drive.google.com/uc?id=15qdSFASWLhg9W8kBLQbxYBwu-OI2lica\n",
            "From (redirected): https://drive.google.com/uc?id=15qdSFASWLhg9W8kBLQbxYBwu-OI2lica&confirm=t&uuid=a74189e3-ce53-404a-ab2b-c83b902da105\n",
            "To: /content/file.csv\n",
            "100%|██████████| 556M/556M [00:09<00:00, 57.2MB/s]\n"
          ]
        },
        {
          "output_type": "execute_result",
          "data": {
            "text/plain": [
              "'file.csv'"
            ],
            "application/vnd.google.colaboratory.intrinsic+json": {
              "type": "string"
            }
          },
          "metadata": {},
          "execution_count": 94
        }
      ]
    },
    {
      "cell_type": "markdown",
      "source": [
        "## 3. Loading and Exploring the Data\n",
        "\n",
        "We load the downloaded CSV file into a pandas DataFrame and display the first few rows to understand the data structure. We also check the shape of the DataFrame (number of rows and columns) and list the column names."
      ],
      "metadata": {
        "id": "i9SbZKBhA08k"
      }
    },
    {
      "cell_type": "code",
      "source": [
        "df = pd.read_csv(\"file.csv\")\n",
        "df.head(3)"
      ],
      "metadata": {
        "colab": {
          "base_uri": "https://localhost:8080/",
          "height": 453
        },
        "id": "cSK_hL618p79",
        "outputId": "9193d353-b089-4e68-d5d2-d11276ec80ce"
      },
      "execution_count": null,
      "outputs": [
        {
          "output_type": "execute_result",
          "data": {
            "text/plain": [
              "       id            title  vote_average  vote_count    status release_date  \\\n",
              "0   27205        Inception         8.364       34495  Released   2010-07-15   \n",
              "1  157336     Interstellar         8.417       32571  Released   2014-11-05   \n",
              "2     155  The Dark Knight         8.512       30619  Released   2008-07-16   \n",
              "\n",
              "      revenue  runtime  adult                     backdrop_path  ...  \\\n",
              "0   825532764      148  False  /8ZTVqvKDQ8emSGUEMjsS4yHAwrp.jpg  ...   \n",
              "1   701729206      169  False  /pbrkL804c8yAv3zBZR4QPEafpAR.jpg  ...   \n",
              "2  1004558444      152  False  /nMKdUUepR0i5zn0y1T4CsSB5chy.jpg  ...   \n",
              "\n",
              "    original_title                                           overview  \\\n",
              "0        Inception  Cobb, a skilled thief who commits corporate es...   \n",
              "1     Interstellar  The adventures of a group of explorers who mak...   \n",
              "2  The Dark Knight  Batman raises the stakes in his war on crime. ...   \n",
              "\n",
              "  popularity                       poster_path  \\\n",
              "0     83.952  /oYuLEt3zVCKq57qu2F8dT7NIa6f.jpg   \n",
              "1    140.241  /gEU2QniE6E77NI6lCU6MxlNBvIx.jpg   \n",
              "2    130.643  /qJ2tW6WMUDux911r6m7haRef0WH.jpg   \n",
              "\n",
              "                                             tagline  \\\n",
              "0               Your mind is the scene of the crime.   \n",
              "1  Mankind was born on Earth. It was never meant ...   \n",
              "2                  Welcome to a world without rules.   \n",
              "\n",
              "                               genres  \\\n",
              "0  Action, Science Fiction, Adventure   \n",
              "1   Adventure, Drama, Science Fiction   \n",
              "2      Drama, Action, Crime, Thriller   \n",
              "\n",
              "                                production_companies  \\\n",
              "0  Legendary Pictures, Syncopy, Warner Bros. Pict...   \n",
              "1  Legendary Pictures, Syncopy, Lynda Obst Produc...   \n",
              "2  DC Comics, Legendary Pictures, Syncopy, Isobel...   \n",
              "\n",
              "                       production_countries  \\\n",
              "0  United Kingdom, United States of America   \n",
              "1  United Kingdom, United States of America   \n",
              "2  United Kingdom, United States of America   \n",
              "\n",
              "                     spoken_languages  \\\n",
              "0  English, French, Japanese, Swahili   \n",
              "1                             English   \n",
              "2                   English, Mandarin   \n",
              "\n",
              "                                            keywords  \n",
              "0  rescue, mission, dream, airplane, paris, franc...  \n",
              "1  rescue, future, spacecraft, race against time,...  \n",
              "2  joker, sadism, chaos, secret identity, crime f...  \n",
              "\n",
              "[3 rows x 24 columns]"
            ],
            "text/html": [
              "\n",
              "  <div id=\"df-1d815cee-10da-4ea9-b579-f3aa4f098588\" class=\"colab-df-container\">\n",
              "    <div>\n",
              "<style scoped>\n",
              "    .dataframe tbody tr th:only-of-type {\n",
              "        vertical-align: middle;\n",
              "    }\n",
              "\n",
              "    .dataframe tbody tr th {\n",
              "        vertical-align: top;\n",
              "    }\n",
              "\n",
              "    .dataframe thead th {\n",
              "        text-align: right;\n",
              "    }\n",
              "</style>\n",
              "<table border=\"1\" class=\"dataframe\">\n",
              "  <thead>\n",
              "    <tr style=\"text-align: right;\">\n",
              "      <th></th>\n",
              "      <th>id</th>\n",
              "      <th>title</th>\n",
              "      <th>vote_average</th>\n",
              "      <th>vote_count</th>\n",
              "      <th>status</th>\n",
              "      <th>release_date</th>\n",
              "      <th>revenue</th>\n",
              "      <th>runtime</th>\n",
              "      <th>adult</th>\n",
              "      <th>backdrop_path</th>\n",
              "      <th>...</th>\n",
              "      <th>original_title</th>\n",
              "      <th>overview</th>\n",
              "      <th>popularity</th>\n",
              "      <th>poster_path</th>\n",
              "      <th>tagline</th>\n",
              "      <th>genres</th>\n",
              "      <th>production_companies</th>\n",
              "      <th>production_countries</th>\n",
              "      <th>spoken_languages</th>\n",
              "      <th>keywords</th>\n",
              "    </tr>\n",
              "  </thead>\n",
              "  <tbody>\n",
              "    <tr>\n",
              "      <th>0</th>\n",
              "      <td>27205</td>\n",
              "      <td>Inception</td>\n",
              "      <td>8.364</td>\n",
              "      <td>34495</td>\n",
              "      <td>Released</td>\n",
              "      <td>2010-07-15</td>\n",
              "      <td>825532764</td>\n",
              "      <td>148</td>\n",
              "      <td>False</td>\n",
              "      <td>/8ZTVqvKDQ8emSGUEMjsS4yHAwrp.jpg</td>\n",
              "      <td>...</td>\n",
              "      <td>Inception</td>\n",
              "      <td>Cobb, a skilled thief who commits corporate es...</td>\n",
              "      <td>83.952</td>\n",
              "      <td>/oYuLEt3zVCKq57qu2F8dT7NIa6f.jpg</td>\n",
              "      <td>Your mind is the scene of the crime.</td>\n",
              "      <td>Action, Science Fiction, Adventure</td>\n",
              "      <td>Legendary Pictures, Syncopy, Warner Bros. Pict...</td>\n",
              "      <td>United Kingdom, United States of America</td>\n",
              "      <td>English, French, Japanese, Swahili</td>\n",
              "      <td>rescue, mission, dream, airplane, paris, franc...</td>\n",
              "    </tr>\n",
              "    <tr>\n",
              "      <th>1</th>\n",
              "      <td>157336</td>\n",
              "      <td>Interstellar</td>\n",
              "      <td>8.417</td>\n",
              "      <td>32571</td>\n",
              "      <td>Released</td>\n",
              "      <td>2014-11-05</td>\n",
              "      <td>701729206</td>\n",
              "      <td>169</td>\n",
              "      <td>False</td>\n",
              "      <td>/pbrkL804c8yAv3zBZR4QPEafpAR.jpg</td>\n",
              "      <td>...</td>\n",
              "      <td>Interstellar</td>\n",
              "      <td>The adventures of a group of explorers who mak...</td>\n",
              "      <td>140.241</td>\n",
              "      <td>/gEU2QniE6E77NI6lCU6MxlNBvIx.jpg</td>\n",
              "      <td>Mankind was born on Earth. It was never meant ...</td>\n",
              "      <td>Adventure, Drama, Science Fiction</td>\n",
              "      <td>Legendary Pictures, Syncopy, Lynda Obst Produc...</td>\n",
              "      <td>United Kingdom, United States of America</td>\n",
              "      <td>English</td>\n",
              "      <td>rescue, future, spacecraft, race against time,...</td>\n",
              "    </tr>\n",
              "    <tr>\n",
              "      <th>2</th>\n",
              "      <td>155</td>\n",
              "      <td>The Dark Knight</td>\n",
              "      <td>8.512</td>\n",
              "      <td>30619</td>\n",
              "      <td>Released</td>\n",
              "      <td>2008-07-16</td>\n",
              "      <td>1004558444</td>\n",
              "      <td>152</td>\n",
              "      <td>False</td>\n",
              "      <td>/nMKdUUepR0i5zn0y1T4CsSB5chy.jpg</td>\n",
              "      <td>...</td>\n",
              "      <td>The Dark Knight</td>\n",
              "      <td>Batman raises the stakes in his war on crime. ...</td>\n",
              "      <td>130.643</td>\n",
              "      <td>/qJ2tW6WMUDux911r6m7haRef0WH.jpg</td>\n",
              "      <td>Welcome to a world without rules.</td>\n",
              "      <td>Drama, Action, Crime, Thriller</td>\n",
              "      <td>DC Comics, Legendary Pictures, Syncopy, Isobel...</td>\n",
              "      <td>United Kingdom, United States of America</td>\n",
              "      <td>English, Mandarin</td>\n",
              "      <td>joker, sadism, chaos, secret identity, crime f...</td>\n",
              "    </tr>\n",
              "  </tbody>\n",
              "</table>\n",
              "<p>3 rows × 24 columns</p>\n",
              "</div>\n",
              "    <div class=\"colab-df-buttons\">\n",
              "\n",
              "  <div class=\"colab-df-container\">\n",
              "    <button class=\"colab-df-convert\" onclick=\"convertToInteractive('df-1d815cee-10da-4ea9-b579-f3aa4f098588')\"\n",
              "            title=\"Convert this dataframe to an interactive table.\"\n",
              "            style=\"display:none;\">\n",
              "\n",
              "  <svg xmlns=\"http://www.w3.org/2000/svg\" height=\"24px\" viewBox=\"0 -960 960 960\">\n",
              "    <path d=\"M120-120v-720h720v720H120Zm60-500h600v-160H180v160Zm220 220h160v-160H400v160Zm0 220h160v-160H400v160ZM180-400h160v-160H180v160Zm440 0h160v-160H620v160ZM180-180h160v-160H180v160Zm440 0h160v-160H620v160Z\"/>\n",
              "  </svg>\n",
              "    </button>\n",
              "\n",
              "  <style>\n",
              "    .colab-df-container {\n",
              "      display:flex;\n",
              "      gap: 12px;\n",
              "    }\n",
              "\n",
              "    .colab-df-convert {\n",
              "      background-color: #E8F0FE;\n",
              "      border: none;\n",
              "      border-radius: 50%;\n",
              "      cursor: pointer;\n",
              "      display: none;\n",
              "      fill: #1967D2;\n",
              "      height: 32px;\n",
              "      padding: 0 0 0 0;\n",
              "      width: 32px;\n",
              "    }\n",
              "\n",
              "    .colab-df-convert:hover {\n",
              "      background-color: #E2EBFA;\n",
              "      box-shadow: 0px 1px 2px rgba(60, 64, 67, 0.3), 0px 1px 3px 1px rgba(60, 64, 67, 0.15);\n",
              "      fill: #174EA6;\n",
              "    }\n",
              "\n",
              "    .colab-df-buttons div {\n",
              "      margin-bottom: 4px;\n",
              "    }\n",
              "\n",
              "    [theme=dark] .colab-df-convert {\n",
              "      background-color: #3B4455;\n",
              "      fill: #D2E3FC;\n",
              "    }\n",
              "\n",
              "    [theme=dark] .colab-df-convert:hover {\n",
              "      background-color: #434B5C;\n",
              "      box-shadow: 0px 1px 3px 1px rgba(0, 0, 0, 0.15);\n",
              "      filter: drop-shadow(0px 1px 2px rgba(0, 0, 0, 0.3));\n",
              "      fill: #FFFFFF;\n",
              "    }\n",
              "  </style>\n",
              "\n",
              "    <script>\n",
              "      const buttonEl =\n",
              "        document.querySelector('#df-1d815cee-10da-4ea9-b579-f3aa4f098588 button.colab-df-convert');\n",
              "      buttonEl.style.display =\n",
              "        google.colab.kernel.accessAllowed ? 'block' : 'none';\n",
              "\n",
              "      async function convertToInteractive(key) {\n",
              "        const element = document.querySelector('#df-1d815cee-10da-4ea9-b579-f3aa4f098588');\n",
              "        const dataTable =\n",
              "          await google.colab.kernel.invokeFunction('convertToInteractive',\n",
              "                                                    [key], {});\n",
              "        if (!dataTable) return;\n",
              "\n",
              "        const docLinkHtml = 'Like what you see? Visit the ' +\n",
              "          '<a target=\"_blank\" href=https://colab.research.google.com/notebooks/data_table.ipynb>data table notebook</a>'\n",
              "          + ' to learn more about interactive tables.';\n",
              "        element.innerHTML = '';\n",
              "        dataTable['output_type'] = 'display_data';\n",
              "        await google.colab.output.renderOutput(dataTable, element);\n",
              "        const docLink = document.createElement('div');\n",
              "        docLink.innerHTML = docLinkHtml;\n",
              "        element.appendChild(docLink);\n",
              "      }\n",
              "    </script>\n",
              "  </div>\n",
              "\n",
              "\n",
              "    <div id=\"df-f586181c-93ec-484e-8fae-c279fdf09a77\">\n",
              "      <button class=\"colab-df-quickchart\" onclick=\"quickchart('df-f586181c-93ec-484e-8fae-c279fdf09a77')\"\n",
              "                title=\"Suggest charts\"\n",
              "                style=\"display:none;\">\n",
              "\n",
              "<svg xmlns=\"http://www.w3.org/2000/svg\" height=\"24px\"viewBox=\"0 0 24 24\"\n",
              "     width=\"24px\">\n",
              "    <g>\n",
              "        <path d=\"M19 3H5c-1.1 0-2 .9-2 2v14c0 1.1.9 2 2 2h14c1.1 0 2-.9 2-2V5c0-1.1-.9-2-2-2zM9 17H7v-7h2v7zm4 0h-2V7h2v10zm4 0h-2v-4h2v4z\"/>\n",
              "    </g>\n",
              "</svg>\n",
              "      </button>\n",
              "\n",
              "<style>\n",
              "  .colab-df-quickchart {\n",
              "      --bg-color: #E8F0FE;\n",
              "      --fill-color: #1967D2;\n",
              "      --hover-bg-color: #E2EBFA;\n",
              "      --hover-fill-color: #174EA6;\n",
              "      --disabled-fill-color: #AAA;\n",
              "      --disabled-bg-color: #DDD;\n",
              "  }\n",
              "\n",
              "  [theme=dark] .colab-df-quickchart {\n",
              "      --bg-color: #3B4455;\n",
              "      --fill-color: #D2E3FC;\n",
              "      --hover-bg-color: #434B5C;\n",
              "      --hover-fill-color: #FFFFFF;\n",
              "      --disabled-bg-color: #3B4455;\n",
              "      --disabled-fill-color: #666;\n",
              "  }\n",
              "\n",
              "  .colab-df-quickchart {\n",
              "    background-color: var(--bg-color);\n",
              "    border: none;\n",
              "    border-radius: 50%;\n",
              "    cursor: pointer;\n",
              "    display: none;\n",
              "    fill: var(--fill-color);\n",
              "    height: 32px;\n",
              "    padding: 0;\n",
              "    width: 32px;\n",
              "  }\n",
              "\n",
              "  .colab-df-quickchart:hover {\n",
              "    background-color: var(--hover-bg-color);\n",
              "    box-shadow: 0 1px 2px rgba(60, 64, 67, 0.3), 0 1px 3px 1px rgba(60, 64, 67, 0.15);\n",
              "    fill: var(--button-hover-fill-color);\n",
              "  }\n",
              "\n",
              "  .colab-df-quickchart-complete:disabled,\n",
              "  .colab-df-quickchart-complete:disabled:hover {\n",
              "    background-color: var(--disabled-bg-color);\n",
              "    fill: var(--disabled-fill-color);\n",
              "    box-shadow: none;\n",
              "  }\n",
              "\n",
              "  .colab-df-spinner {\n",
              "    border: 2px solid var(--fill-color);\n",
              "    border-color: transparent;\n",
              "    border-bottom-color: var(--fill-color);\n",
              "    animation:\n",
              "      spin 1s steps(1) infinite;\n",
              "  }\n",
              "\n",
              "  @keyframes spin {\n",
              "    0% {\n",
              "      border-color: transparent;\n",
              "      border-bottom-color: var(--fill-color);\n",
              "      border-left-color: var(--fill-color);\n",
              "    }\n",
              "    20% {\n",
              "      border-color: transparent;\n",
              "      border-left-color: var(--fill-color);\n",
              "      border-top-color: var(--fill-color);\n",
              "    }\n",
              "    30% {\n",
              "      border-color: transparent;\n",
              "      border-left-color: var(--fill-color);\n",
              "      border-top-color: var(--fill-color);\n",
              "      border-right-color: var(--fill-color);\n",
              "    }\n",
              "    40% {\n",
              "      border-color: transparent;\n",
              "      border-right-color: var(--fill-color);\n",
              "      border-top-color: var(--fill-color);\n",
              "    }\n",
              "    60% {\n",
              "      border-color: transparent;\n",
              "      border-right-color: var(--fill-color);\n",
              "    }\n",
              "    80% {\n",
              "      border-color: transparent;\n",
              "      border-right-color: var(--fill-color);\n",
              "      border-bottom-color: var(--fill-color);\n",
              "    }\n",
              "    90% {\n",
              "      border-color: transparent;\n",
              "      border-bottom-color: var(--fill-color);\n",
              "    }\n",
              "  }\n",
              "</style>\n",
              "\n",
              "      <script>\n",
              "        async function quickchart(key) {\n",
              "          const quickchartButtonEl =\n",
              "            document.querySelector('#' + key + ' button');\n",
              "          quickchartButtonEl.disabled = true;  // To prevent multiple clicks.\n",
              "          quickchartButtonEl.classList.add('colab-df-spinner');\n",
              "          try {\n",
              "            const charts = await google.colab.kernel.invokeFunction(\n",
              "                'suggestCharts', [key], {});\n",
              "          } catch (error) {\n",
              "            console.error('Error during call to suggestCharts:', error);\n",
              "          }\n",
              "          quickchartButtonEl.classList.remove('colab-df-spinner');\n",
              "          quickchartButtonEl.classList.add('colab-df-quickchart-complete');\n",
              "        }\n",
              "        (() => {\n",
              "          let quickchartButtonEl =\n",
              "            document.querySelector('#df-f586181c-93ec-484e-8fae-c279fdf09a77 button');\n",
              "          quickchartButtonEl.style.display =\n",
              "            google.colab.kernel.accessAllowed ? 'block' : 'none';\n",
              "        })();\n",
              "      </script>\n",
              "    </div>\n",
              "\n",
              "    </div>\n",
              "  </div>\n"
            ],
            "application/vnd.google.colaboratory.intrinsic+json": {
              "type": "dataframe",
              "variable_name": "df"
            }
          },
          "metadata": {},
          "execution_count": 95
        }
      ]
    },
    {
      "cell_type": "code",
      "source": [
        "print(f\"DataFrame Shape: {df.shape}\")\n",
        "print(\"Columns:\", df.columns.tolist())"
      ],
      "metadata": {
        "colab": {
          "base_uri": "https://localhost:8080/"
        },
        "id": "HsJFw0Hn8_Lg",
        "outputId": "2466bb4b-c319-4eb1-fac4-fd76559f2407"
      },
      "execution_count": null,
      "outputs": [
        {
          "output_type": "stream",
          "name": "stdout",
          "text": [
            "DataFrame Shape: (1229959, 24)\n",
            "Columns: ['id', 'title', 'vote_average', 'vote_count', 'status', 'release_date', 'revenue', 'runtime', 'adult', 'backdrop_path', 'budget', 'homepage', 'imdb_id', 'original_language', 'original_title', 'overview', 'popularity', 'poster_path', 'tagline', 'genres', 'production_companies', 'production_countries', 'spoken_languages', 'keywords']\n"
          ]
        }
      ]
    },
    {
      "cell_type": "markdown",
      "source": [
        "## 4. Handling Missing Values\n",
        "\n",
        "We check for missing values in the DataFrame using `df.isnull().sum()`. Then, we fill the missing values in the selected feature columns with empty strings to avoid errors during processing."
      ],
      "metadata": {
        "id": "P7aTZNdGBKNN"
      }
    },
    {
      "cell_type": "code",
      "source": [
        "df.isnull().sum()"
      ],
      "metadata": {
        "colab": {
          "base_uri": "https://localhost:8080/",
          "height": 837
        },
        "id": "85ybYxUB9cFE",
        "outputId": "157b4beb-3ec7-4c4a-9ca8-9599c569dbf6"
      },
      "execution_count": null,
      "outputs": [
        {
          "output_type": "execute_result",
          "data": {
            "text/plain": [
              "id                            0\n",
              "title                        13\n",
              "vote_average                  0\n",
              "vote_count                    0\n",
              "status                        0\n",
              "release_date             228009\n",
              "revenue                       0\n",
              "runtime                       0\n",
              "adult                         0\n",
              "backdrop_path            911015\n",
              "budget                        0\n",
              "homepage                1101086\n",
              "imdb_id                  605696\n",
              "original_language             0\n",
              "original_title               13\n",
              "overview                 261659\n",
              "popularity                    0\n",
              "poster_path              405876\n",
              "tagline                 1057342\n",
              "genres                   511319\n",
              "production_companies     686210\n",
              "production_countries     564879\n",
              "spoken_languages         542949\n",
              "keywords                 908334\n",
              "dtype: int64"
            ],
            "text/html": [
              "<div>\n",
              "<style scoped>\n",
              "    .dataframe tbody tr th:only-of-type {\n",
              "        vertical-align: middle;\n",
              "    }\n",
              "\n",
              "    .dataframe tbody tr th {\n",
              "        vertical-align: top;\n",
              "    }\n",
              "\n",
              "    .dataframe thead th {\n",
              "        text-align: right;\n",
              "    }\n",
              "</style>\n",
              "<table border=\"1\" class=\"dataframe\">\n",
              "  <thead>\n",
              "    <tr style=\"text-align: right;\">\n",
              "      <th></th>\n",
              "      <th>0</th>\n",
              "    </tr>\n",
              "  </thead>\n",
              "  <tbody>\n",
              "    <tr>\n",
              "      <th>id</th>\n",
              "      <td>0</td>\n",
              "    </tr>\n",
              "    <tr>\n",
              "      <th>title</th>\n",
              "      <td>13</td>\n",
              "    </tr>\n",
              "    <tr>\n",
              "      <th>vote_average</th>\n",
              "      <td>0</td>\n",
              "    </tr>\n",
              "    <tr>\n",
              "      <th>vote_count</th>\n",
              "      <td>0</td>\n",
              "    </tr>\n",
              "    <tr>\n",
              "      <th>status</th>\n",
              "      <td>0</td>\n",
              "    </tr>\n",
              "    <tr>\n",
              "      <th>release_date</th>\n",
              "      <td>228009</td>\n",
              "    </tr>\n",
              "    <tr>\n",
              "      <th>revenue</th>\n",
              "      <td>0</td>\n",
              "    </tr>\n",
              "    <tr>\n",
              "      <th>runtime</th>\n",
              "      <td>0</td>\n",
              "    </tr>\n",
              "    <tr>\n",
              "      <th>adult</th>\n",
              "      <td>0</td>\n",
              "    </tr>\n",
              "    <tr>\n",
              "      <th>backdrop_path</th>\n",
              "      <td>911015</td>\n",
              "    </tr>\n",
              "    <tr>\n",
              "      <th>budget</th>\n",
              "      <td>0</td>\n",
              "    </tr>\n",
              "    <tr>\n",
              "      <th>homepage</th>\n",
              "      <td>1101086</td>\n",
              "    </tr>\n",
              "    <tr>\n",
              "      <th>imdb_id</th>\n",
              "      <td>605696</td>\n",
              "    </tr>\n",
              "    <tr>\n",
              "      <th>original_language</th>\n",
              "      <td>0</td>\n",
              "    </tr>\n",
              "    <tr>\n",
              "      <th>original_title</th>\n",
              "      <td>13</td>\n",
              "    </tr>\n",
              "    <tr>\n",
              "      <th>overview</th>\n",
              "      <td>261659</td>\n",
              "    </tr>\n",
              "    <tr>\n",
              "      <th>popularity</th>\n",
              "      <td>0</td>\n",
              "    </tr>\n",
              "    <tr>\n",
              "      <th>poster_path</th>\n",
              "      <td>405876</td>\n",
              "    </tr>\n",
              "    <tr>\n",
              "      <th>tagline</th>\n",
              "      <td>1057342</td>\n",
              "    </tr>\n",
              "    <tr>\n",
              "      <th>genres</th>\n",
              "      <td>511319</td>\n",
              "    </tr>\n",
              "    <tr>\n",
              "      <th>production_companies</th>\n",
              "      <td>686210</td>\n",
              "    </tr>\n",
              "    <tr>\n",
              "      <th>production_countries</th>\n",
              "      <td>564879</td>\n",
              "    </tr>\n",
              "    <tr>\n",
              "      <th>spoken_languages</th>\n",
              "      <td>542949</td>\n",
              "    </tr>\n",
              "    <tr>\n",
              "      <th>keywords</th>\n",
              "      <td>908334</td>\n",
              "    </tr>\n",
              "  </tbody>\n",
              "</table>\n",
              "</div><br><label><b>dtype:</b> int64</label>"
            ]
          },
          "metadata": {},
          "execution_count": 97
        }
      ]
    },
    {
      "cell_type": "code",
      "source": [
        "features = ['keywords', 'genres', 'overview', 'title', 'spoken_languages', 'production_countries']\n",
        "df[features] = df[features].fillna('')"
      ],
      "metadata": {
        "id": "OHaB7LkXlpbo"
      },
      "execution_count": null,
      "outputs": []
    },
    {
      "cell_type": "markdown",
      "source": [
        "## 5. Handling Duplicate Rows\n",
        "\n",
        "We check for duplicate rows in the DataFrame using `df.duplicated().sum()`. If duplicates exist, we remove them using `df.drop_duplicates(inplace=True)`."
      ],
      "metadata": {
        "id": "BlMMiahcBGM2"
      }
    },
    {
      "cell_type": "code",
      "source": [
        "df.duplicated().sum()"
      ],
      "metadata": {
        "colab": {
          "base_uri": "https://localhost:8080/"
        },
        "id": "8bEBdomulxf3",
        "outputId": "d6403a27-55f4-4295-cfc4-e90a36a71fac"
      },
      "execution_count": null,
      "outputs": [
        {
          "output_type": "execute_result",
          "data": {
            "text/plain": [
              "np.int64(374)"
            ]
          },
          "metadata": {},
          "execution_count": 99
        }
      ]
    },
    {
      "cell_type": "code",
      "source": [
        "df.drop_duplicates(inplace=True)"
      ],
      "metadata": {
        "id": "2EDgeWMFl1Er"
      },
      "execution_count": null,
      "outputs": []
    },
    {
      "cell_type": "markdown",
      "source": [
        "## 6. Downloading NLTK Resources\n",
        "\n",
        "We download necessary resources from the NLTK library: 'stopwords' (common words like 'the', 'a', 'is' that are usually removed during text processing) and 'wordnet' (a lexical database used for lemmatization)."
      ],
      "metadata": {
        "id": "rB_toiL9BP-G"
      }
    },
    {
      "cell_type": "code",
      "source": [
        "nltk.download('stopwords')\n",
        "nltk.download('wordnet')"
      ],
      "metadata": {
        "colab": {
          "base_uri": "https://localhost:8080/"
        },
        "id": "zSEu23vdl4tE",
        "outputId": "e40e4dca-b16b-4682-fbf5-3203ebf0d953"
      },
      "execution_count": null,
      "outputs": [
        {
          "output_type": "stream",
          "name": "stderr",
          "text": [
            "[nltk_data] Downloading package stopwords to /root/nltk_data...\n",
            "[nltk_data]   Package stopwords is already up-to-date!\n",
            "[nltk_data] Downloading package wordnet to /root/nltk_data...\n",
            "[nltk_data]   Package wordnet is already up-to-date!\n"
          ]
        },
        {
          "output_type": "execute_result",
          "data": {
            "text/plain": [
              "True"
            ]
          },
          "metadata": {},
          "execution_count": 101
        }
      ]
    },
    {
      "cell_type": "markdown",
      "source": [
        "## 7. Defining Text Cleaning Functions\n",
        "\n",
        "We define two helper functions for text cleaning:\n",
        "- `remove_stopwords`: Takes text as input and removes English stopwords.\n",
        "- `lemmatize_text`: Takes text as input and reduces words to their base or dictionary form (e.g., 'running' becomes 'run')."
      ],
      "metadata": {
        "id": "yO0FS_uTBTRd"
      }
    },
    {
      "cell_type": "code",
      "source": [
        "stop_words = set(stopwords.words('english'))\n",
        "lemmatizer = WordNetLemmatizer()"
      ],
      "metadata": {
        "id": "atV9kmoVl94-"
      },
      "execution_count": null,
      "outputs": []
    },
    {
      "cell_type": "code",
      "source": [
        "def remove_stopwords(text):\n",
        "    words = [word for word in text.split() if word.lower() not in stop_words]\n",
        "    return \" \".join(words)\n",
        "\n",
        "def lemmatize_text(text):\n",
        "    words = [lemmatizer.lemmatize(word) for word in text.split()]\n",
        "    return \" \".join(words)"
      ],
      "metadata": {
        "id": "zwGSvqaTmAiO"
      },
      "execution_count": null,
      "outputs": []
    },
    {
      "cell_type": "markdown",
      "source": [
        "## 8. Defining Jaccard Similarity\n",
        "\n",
        "The Jaccard similarity is a statistic used for comparing the similarity and diversity of sample sets. It is defined as the size of the intersection divided by the size of the union of the sample sets. This is useful for comparing lists of items like genres or keywords."
      ],
      "metadata": {
        "id": "1InPZk6iBWFD"
      }
    },
    {
      "cell_type": "code",
      "source": [
        "def jaccard_similarity(set1, set2):\n",
        "    intersection = len(set1.intersection(set2))\n",
        "    union = len(set1.union(set2))\n",
        "    return intersection / union if union != 0 else 0"
      ],
      "metadata": {
        "id": "leSQx8YBmLGT"
      },
      "execution_count": null,
      "outputs": []
    },
    {
      "cell_type": "markdown",
      "source": [
        "## 9. Processing List-like Features\n",
        "\n",
        "Some features like 'keywords', 'genres', etc., are stored as strings that look like lists. We use `safe_literal_eval` to convert these strings into actual Python lists. If the conversion fails, it attempts to split the string by commas."
      ],
      "metadata": {
        "id": "cJy56Rn0BYhn"
      }
    },
    {
      "cell_type": "code",
      "source": [
        "def safe_literal_eval(value):\n",
        "    if isinstance(value, str):\n",
        "        try:\n",
        "            return literal_eval(value)\n",
        "        except (ValueError, SyntaxError):\n",
        "            return value.split(',') if value else []\n",
        "    return value if isinstance(value, list) else []\n",
        "\n",
        "features = ['keywords', 'genres', 'spoken_languages', 'production_countries']\n",
        "for feature in features:\n",
        "    df[feature] = df[feature].apply(safe_literal_eval)"
      ],
      "metadata": {
        "id": "a3JviccPmOL6"
      },
      "execution_count": null,
      "outputs": []
    },
    {
      "cell_type": "markdown",
      "source": [
        "## 10. Cleaning and Preparing Features\n",
        "\n",
        "We define a `clean_data` function to process the list-like features. It converts all items in the list to lowercase and removes spaces. This helps in standardizing the data for similarity calculations. We apply this function to the relevant features."
      ],
      "metadata": {
        "id": "MvvVxAmfBadu"
      }
    },
    {
      "cell_type": "code",
      "source": [
        "def clean_data(x):\n",
        "    if isinstance(x, list):\n",
        "        return [str.lower(i.replace(\" \", \"\")) for i in x]\n",
        "    else:\n",
        "        return ''\n",
        "\n",
        "features = ['keywords', 'genres', 'spoken_languages', 'production_countries']\n",
        "for feature in features:\n",
        "    df[feature] = df[feature].apply(clean_data)"
      ],
      "metadata": {
        "id": "fgRqKPJHmWix"
      },
      "execution_count": null,
      "outputs": []
    },
    {
      "cell_type": "markdown",
      "source": [
        "## 11. Feature Extraction and Similarity Calculation\n",
        "\n",
        "We limit the DataFrame to the first 3000 rows to manage computation time. We use `TfidfVectorizer` to convert the 'overview' text into a matrix of TF-IDF features. TF-IDF (Term Frequency-Inverse Document Frequency) reflects how important a word is to a document in a collection.\n",
        "\n",
        "We use `CountVectorizer` to convert the 'keywords' into a matrix of token counts. This counts the occurrences of each keyword.\n",
        "\n",
        "Finally, we calculate the cosine similarity between movies based on their 'overview' and 'keywords' matrices. Cosine similarity measures the cosine of the angle between two vectors, indicating how similar they are."
      ],
      "metadata": {
        "id": "yDDs6-zoBd1p"
      }
    },
    {
      "cell_type": "code",
      "source": [
        "df = df[:3000]\n",
        "\n",
        "tfidf_overview = TfidfVectorizer(stop_words='english')\n",
        "tfidf_overview_matrix = tfidf_overview.fit_transform(df['overview'])\n",
        "\n",
        "keywords_text = [' '.join(kw) if isinstance(kw, list) else kw for kw in df['keywords']]\n",
        "vector = CountVectorizer(stop_words='english')\n",
        "vector_keywords_matrix = vector.fit_transform(keywords_text)\n",
        "\n",
        "cosine_sim_overview = cosine_similarity(tfidf_overview_matrix)\n",
        "cosine_sim_keywords = cosine_similarity(vector_keywords_matrix)"
      ],
      "metadata": {
        "id": "xD2n7J6smbB8"
      },
      "execution_count": null,
      "outputs": []
    },
    {
      "cell_type": "markdown",
      "source": [
        "## 12. Extracting Movie Information\n",
        "\n",
        "We extract lists of movie titles, genres, countries, and languages from the processed DataFrame. These lists will be used in the recommendation function."
      ],
      "metadata": {
        "id": "qthfeWU8BhH-"
      }
    },
    {
      "cell_type": "code",
      "source": [
        "movie_titles = df['title'].tolist()\n",
        "movie_genres = df['genres'].tolist()\n",
        "movie_countries = df['production_countries'].tolist()\n",
        "movie_languages = df['spoken_languages'].tolist()"
      ],
      "metadata": {
        "id": "vni5qhZMmc_p"
      },
      "execution_count": null,
      "outputs": []
    },
    {
      "cell_type": "markdown",
      "source": [
        "## 13. Defining Combined Similarity Function\n",
        "\n",
        "This function calculates a combined similarity score between two movies based on a weighted sum of different similarity measures:\n",
        "- Cosine similarity of overviews\n",
        "- Cosine similarity of keywords\n",
        "- Jaccard similarity of genres\n",
        "- Jaccard similarity of production countries\n",
        "- Jaccard similarity of spoken languages\n",
        "\n",
        "The weights determine the importance of each feature in the overall similarity score."
      ],
      "metadata": {
        "id": "MllsomC-Bi6b"
      }
    },
    {
      "cell_type": "code",
      "source": [
        "def combined_similarity(idx1, idx2):\n",
        "    weight_overview = 0.3\n",
        "    weight_keywords = 0.3\n",
        "    weight_genres = 0.2\n",
        "    weight_countries = 0.1\n",
        "    weight_languages = 0.1\n",
        "\n",
        "    genre_sim = jaccard_similarity(set(movie_genres[idx1]), set(movie_genres[idx2]))\n",
        "    country_sim = jaccard_similarity(set(movie_countries[idx1]), set(movie_countries[idx2]))\n",
        "    language_sim = jaccard_similarity(set(movie_languages[idx1]), set(movie_languages[idx2]))\n",
        "\n",
        "    return (\n",
        "        weight_overview * cosine_sim_overview[idx1, idx2] +\n",
        "        weight_keywords * cosine_sim_keywords[idx1, idx2] +\n",
        "        weight_genres * genre_sim +\n",
        "        weight_countries * country_sim +\n",
        "        weight_languages * language_sim\n",
        "    )"
      ],
      "metadata": {
        "id": "gbr2YiZqmfTT"
      },
      "execution_count": null,
      "outputs": []
    },
    {
      "cell_type": "markdown",
      "source": [
        "## 14. Getting Movie Recommendations\n",
        "\n",
        "This is the main function to get movie recommendations.\n",
        "- It takes a `movie_title` and the number of recommendations (`top_n`) as input.\n",
        "- It uses fuzzy matching (`fuzzywuzzy.process.extractOne`) to find the closest matching movie title in the dataset, even if there are typos.\n",
        "- It sets a similarity threshold to handle cases where the input title is significantly different from any title in the dataset.\n",
        "- It finds the index of the matched movie in the DataFrame.\n",
        "- It calculates the `combined_similarity` between the input movie and all other movies.\n",
        "- It sorts the movies based on their similarity score in descending order.\n",
        "- Finally, it prints the top `n` recommended movies along with their similarity scores."
      ],
      "metadata": {
        "id": "BXyZaKU9BmFn"
      }
    },
    {
      "cell_type": "code",
      "source": [
        "def get_recommendations(movie_title, top_n=10):\n",
        "    if not isinstance(movie_title, str):\n",
        "        return \"Error: Movie title must be a string.\"\n",
        "\n",
        "    movie_titles = df['title'].tolist()\n",
        "\n",
        "    match, score = process.extractOne(movie_title, movie_titles)\n",
        "\n",
        "    similarity_threshold = 80\n",
        "\n",
        "    if score < similarity_threshold:\n",
        "        print(f\"Error: '{movie_title}' not found in the dataset. Did you mean '{match}'?\")\n",
        "        movie_title_for_recommendations = match\n",
        "    else:\n",
        "        movie_title_for_recommendations = match\n",
        "        print(f\"Did you mean {match}?, Here\")\n",
        "\n",
        "    try:\n",
        "        movie_index = df[df['title'] == movie_title_for_recommendations].index[0]\n",
        "    except IndexError:\n",
        "        return f\"Error: Could not find an exact match for '{movie_title_for_recommendations}' in the dataset after fuzzy matching.\"\n",
        "\n",
        "    similarities = [(i, combined_similarity(movie_index, i)) for i in range(len(df)) if i != movie_index]\n",
        "    similarities.sort(key=lambda x: x[1], reverse=True)\n",
        "\n",
        "    print(f\"\\nTop {top_n} recommendations for '{movie_title_for_recommendations}':\")\n",
        "    for i, (movie_idx, sim) in enumerate(similarities[:top_n], 1):\n",
        "        print(f\"{i}. {df.iloc[movie_idx]['title']} (Similarity: {sim:.3f})\")"
      ],
      "metadata": {
        "id": "N9Fvv302xwMT"
      },
      "execution_count": null,
      "outputs": []
    },
    {
      "cell_type": "markdown",
      "source": [
        "## 15. Getting Recommendations for \"Terminator\"\n",
        "\n",
        "Finally, we call the `get_recommendations` function with the movie title \"Terminator\" to get recommendations."
      ],
      "metadata": {
        "id": "wiz9ZZ7nBpOj"
      }
    },
    {
      "cell_type": "code",
      "source": [
        "print(get_recommendations(\"Terminator\"))"
      ],
      "metadata": {
        "colab": {
          "base_uri": "https://localhost:8080/"
        },
        "id": "EiplYJ1in5pJ",
        "outputId": "719b8f97-c81a-456f-fdee-b807bf861705"
      },
      "execution_count": null,
      "outputs": [
        {
          "output_type": "stream",
          "name": "stdout",
          "text": [
            "Did you mean The Terminator?, Here\n",
            "\n",
            "Top 10 recommendations for 'The Terminator':\n",
            "1. Terminator 2: Judgment Day (Similarity: 0.571)\n",
            "2. Terminator 3: Rise of the Machines (Similarity: 0.504)\n",
            "3. Terminator Salvation (Similarity: 0.475)\n",
            "4. Terminator: Dark Fate (Similarity: 0.438)\n",
            "5. Hotel Artemis (Similarity: 0.429)\n",
            "6. Terminator Genisys (Similarity: 0.388)\n",
            "7. Déjà Vu (Similarity: 0.368)\n",
            "8. Tenet (Similarity: 0.361)\n",
            "9. The One (Similarity: 0.358)\n",
            "10. The Book of Eli (Similarity: 0.352)\n",
            "None\n"
          ]
        }
      ]
    }
  ]
}